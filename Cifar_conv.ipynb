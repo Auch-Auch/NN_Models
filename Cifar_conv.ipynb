{
  "nbformat": 4,
  "nbformat_minor": 0,
  "metadata": {
    "accelerator": "GPU",
    "colab": {
      "name": "module06_cifar.ipynb",
      "provenance": [],
      "collapsed_sections": []
    },
    "kernelspec": {
      "display_name": "Python 3",
      "language": "python",
      "name": "python3"
    },
    "language_info": {
      "codemirror_mode": {
        "name": "ipython",
        "version": 3
      },
      "file_extension": ".py",
      "mimetype": "text/x-python",
      "name": "python",
      "nbconvert_exporter": "python",
      "pygments_lexer": "ipython3",
      "version": "3.6.8"
    },
    "widgets": {
      "application/vnd.jupyter.widget-state+json": {
        "6827f896ca4f41909e42d521cc87197b": {
          "model_module": "@jupyter-widgets/controls",
          "model_name": "HBoxModel",
          "state": {
            "_view_name": "HBoxView",
            "_dom_classes": [],
            "_model_name": "HBoxModel",
            "_view_module": "@jupyter-widgets/controls",
            "_model_module_version": "1.5.0",
            "_view_count": null,
            "_view_module_version": "1.5.0",
            "box_style": "",
            "layout": "IPY_MODEL_8a473e12b619401288436e2ebffc7d49",
            "_model_module": "@jupyter-widgets/controls",
            "children": [
              "IPY_MODEL_76a17df4a197497eb88168613c810898",
              "IPY_MODEL_dcbd6d45e5d84976970d2d89ac7c7238"
            ]
          }
        },
        "8a473e12b619401288436e2ebffc7d49": {
          "model_module": "@jupyter-widgets/base",
          "model_name": "LayoutModel",
          "state": {
            "_view_name": "LayoutView",
            "grid_template_rows": null,
            "right": null,
            "justify_content": null,
            "_view_module": "@jupyter-widgets/base",
            "overflow": null,
            "_model_module_version": "1.2.0",
            "_view_count": null,
            "flex_flow": null,
            "width": null,
            "min_width": null,
            "border": null,
            "align_items": null,
            "bottom": null,
            "_model_module": "@jupyter-widgets/base",
            "top": null,
            "grid_column": null,
            "overflow_y": null,
            "overflow_x": null,
            "grid_auto_flow": null,
            "grid_area": null,
            "grid_template_columns": null,
            "flex": null,
            "_model_name": "LayoutModel",
            "justify_items": null,
            "grid_row": null,
            "max_height": null,
            "align_content": null,
            "visibility": null,
            "align_self": null,
            "height": null,
            "min_height": null,
            "padding": null,
            "grid_auto_rows": null,
            "grid_gap": null,
            "max_width": null,
            "order": null,
            "_view_module_version": "1.2.0",
            "grid_template_areas": null,
            "object_position": null,
            "object_fit": null,
            "grid_auto_columns": null,
            "margin": null,
            "display": null,
            "left": null
          }
        },
        "76a17df4a197497eb88168613c810898": {
          "model_module": "@jupyter-widgets/controls",
          "model_name": "FloatProgressModel",
          "state": {
            "_view_name": "ProgressView",
            "style": "IPY_MODEL_740d797d5a7648f98def173e9cfa4c1c",
            "_dom_classes": [],
            "description": "",
            "_model_name": "FloatProgressModel",
            "bar_style": "info",
            "max": 1,
            "_view_module": "@jupyter-widgets/controls",
            "_model_module_version": "1.5.0",
            "value": 1,
            "_view_count": null,
            "_view_module_version": "1.5.0",
            "orientation": "horizontal",
            "min": 0,
            "description_tooltip": null,
            "_model_module": "@jupyter-widgets/controls",
            "layout": "IPY_MODEL_77ec24c0ab7c40498cbf5ebab03e22c1"
          }
        },
        "dcbd6d45e5d84976970d2d89ac7c7238": {
          "model_module": "@jupyter-widgets/controls",
          "model_name": "HTMLModel",
          "state": {
            "_view_name": "HTMLView",
            "style": "IPY_MODEL_bd0a828b3af54a83be2076bab204330d",
            "_dom_classes": [],
            "description": "",
            "_model_name": "HTMLModel",
            "placeholder": "​",
            "_view_module": "@jupyter-widgets/controls",
            "_model_module_version": "1.5.0",
            "value": " 170500096/? [00:20&lt;00:00, 96064184.90it/s]",
            "_view_count": null,
            "_view_module_version": "1.5.0",
            "description_tooltip": null,
            "_model_module": "@jupyter-widgets/controls",
            "layout": "IPY_MODEL_578b3f4089704857a4196598e14b66ff"
          }
        },
        "740d797d5a7648f98def173e9cfa4c1c": {
          "model_module": "@jupyter-widgets/controls",
          "model_name": "ProgressStyleModel",
          "state": {
            "_view_name": "StyleView",
            "_model_name": "ProgressStyleModel",
            "description_width": "initial",
            "_view_module": "@jupyter-widgets/base",
            "_model_module_version": "1.5.0",
            "_view_count": null,
            "_view_module_version": "1.2.0",
            "bar_color": null,
            "_model_module": "@jupyter-widgets/controls"
          }
        },
        "77ec24c0ab7c40498cbf5ebab03e22c1": {
          "model_module": "@jupyter-widgets/base",
          "model_name": "LayoutModel",
          "state": {
            "_view_name": "LayoutView",
            "grid_template_rows": null,
            "right": null,
            "justify_content": null,
            "_view_module": "@jupyter-widgets/base",
            "overflow": null,
            "_model_module_version": "1.2.0",
            "_view_count": null,
            "flex_flow": null,
            "width": null,
            "min_width": null,
            "border": null,
            "align_items": null,
            "bottom": null,
            "_model_module": "@jupyter-widgets/base",
            "top": null,
            "grid_column": null,
            "overflow_y": null,
            "overflow_x": null,
            "grid_auto_flow": null,
            "grid_area": null,
            "grid_template_columns": null,
            "flex": null,
            "_model_name": "LayoutModel",
            "justify_items": null,
            "grid_row": null,
            "max_height": null,
            "align_content": null,
            "visibility": null,
            "align_self": null,
            "height": null,
            "min_height": null,
            "padding": null,
            "grid_auto_rows": null,
            "grid_gap": null,
            "max_width": null,
            "order": null,
            "_view_module_version": "1.2.0",
            "grid_template_areas": null,
            "object_position": null,
            "object_fit": null,
            "grid_auto_columns": null,
            "margin": null,
            "display": null,
            "left": null
          }
        },
        "bd0a828b3af54a83be2076bab204330d": {
          "model_module": "@jupyter-widgets/controls",
          "model_name": "DescriptionStyleModel",
          "state": {
            "_view_name": "StyleView",
            "_model_name": "DescriptionStyleModel",
            "description_width": "",
            "_view_module": "@jupyter-widgets/base",
            "_model_module_version": "1.5.0",
            "_view_count": null,
            "_view_module_version": "1.2.0",
            "_model_module": "@jupyter-widgets/controls"
          }
        },
        "578b3f4089704857a4196598e14b66ff": {
          "model_module": "@jupyter-widgets/base",
          "model_name": "LayoutModel",
          "state": {
            "_view_name": "LayoutView",
            "grid_template_rows": null,
            "right": null,
            "justify_content": null,
            "_view_module": "@jupyter-widgets/base",
            "overflow": null,
            "_model_module_version": "1.2.0",
            "_view_count": null,
            "flex_flow": null,
            "width": null,
            "min_width": null,
            "border": null,
            "align_items": null,
            "bottom": null,
            "_model_module": "@jupyter-widgets/base",
            "top": null,
            "grid_column": null,
            "overflow_y": null,
            "overflow_x": null,
            "grid_auto_flow": null,
            "grid_area": null,
            "grid_template_columns": null,
            "flex": null,
            "_model_name": "LayoutModel",
            "justify_items": null,
            "grid_row": null,
            "max_height": null,
            "align_content": null,
            "visibility": null,
            "align_self": null,
            "height": null,
            "min_height": null,
            "padding": null,
            "grid_auto_rows": null,
            "grid_gap": null,
            "max_width": null,
            "order": null,
            "_view_module_version": "1.2.0",
            "grid_template_areas": null,
            "object_position": null,
            "object_fit": null,
            "grid_auto_columns": null,
            "margin": null,
            "display": null,
            "left": null
          }
        }
      }
    }
  },
  "cells": [
    {
      "cell_type": "code",
      "metadata": {
        "id": "85_HkTjcNZeg"
      },
      "source": [
        "import torch\n",
        "import random\n",
        "import numpy as np\n",
        "\n",
        "random.seed(0)\n",
        "np.random.seed(0)\n",
        "torch.manual_seed(0)\n",
        "torch.cuda.manual_seed(0)\n",
        "torch.backends.cudnn.deterministic = True"
      ],
      "execution_count": null,
      "outputs": []
    },
    {
      "cell_type": "code",
      "metadata": {
        "id": "kjPVw9UfNZel"
      },
      "source": [
        "import torchvision.datasets"
      ],
      "execution_count": null,
      "outputs": []
    },
    {
      "cell_type": "code",
      "metadata": {
        "id": "buWKcUqGNZeo",
        "outputId": "3aaececa-86fd-44c9-f892-625576cea6af",
        "colab": {
          "base_uri": "https://localhost:8080/",
          "height": 104,
          "referenced_widgets": [
            "6827f896ca4f41909e42d521cc87197b",
            "8a473e12b619401288436e2ebffc7d49",
            "76a17df4a197497eb88168613c810898",
            "dcbd6d45e5d84976970d2d89ac7c7238",
            "740d797d5a7648f98def173e9cfa4c1c",
            "77ec24c0ab7c40498cbf5ebab03e22c1",
            "bd0a828b3af54a83be2076bab204330d",
            "578b3f4089704857a4196598e14b66ff"
          ]
        }
      },
      "source": [
        "CIFAR_train = torchvision.datasets.CIFAR10('./', download=True, train=True)\n",
        "CIFAR_test = torchvision.datasets.CIFAR10('./', download=True, train=False)"
      ],
      "execution_count": null,
      "outputs": [
        {
          "output_type": "stream",
          "text": [
            "Downloading https://www.cs.toronto.edu/~kriz/cifar-10-python.tar.gz to ./cifar-10-python.tar.gz\n"
          ],
          "name": "stdout"
        },
        {
          "output_type": "display_data",
          "data": {
            "application/vnd.jupyter.widget-view+json": {
              "model_id": "6827f896ca4f41909e42d521cc87197b",
              "version_minor": 0,
              "version_major": 2
            },
            "text/plain": [
              "HBox(children=(FloatProgress(value=1.0, bar_style='info', max=1.0), HTML(value='')))"
            ]
          },
          "metadata": {
            "tags": []
          }
        },
        {
          "output_type": "stream",
          "text": [
            "Extracting ./cifar-10-python.tar.gz to ./\n",
            "Files already downloaded and verified\n"
          ],
          "name": "stdout"
        }
      ]
    },
    {
      "cell_type": "code",
      "metadata": {
        "id": "nyrpGOtPNZeq"
      },
      "source": [
        "X_train = torch.FloatTensor(CIFAR_train.data)\n",
        "y_train = torch.LongTensor(CIFAR_train.targets)\n",
        "X_test = torch.FloatTensor(CIFAR_test.data)\n",
        "y_test = torch.LongTensor(CIFAR_test.targets)"
      ],
      "execution_count": null,
      "outputs": []
    },
    {
      "cell_type": "code",
      "metadata": {
        "id": "f_TmOTWdNZet",
        "outputId": "340d1bc8-8904-4f0f-9d46-ec32e06e73b9",
        "colab": {
          "base_uri": "https://localhost:8080/",
          "height": 35
        }
      },
      "source": [
        "len(y_train), len(y_test)"
      ],
      "execution_count": null,
      "outputs": [
        {
          "output_type": "execute_result",
          "data": {
            "text/plain": [
              "(50000, 10000)"
            ]
          },
          "metadata": {
            "tags": []
          },
          "execution_count": 5
        }
      ]
    },
    {
      "cell_type": "code",
      "metadata": {
        "id": "1jO70446IcHO",
        "outputId": "aff71be9-ff91-41d7-cfe9-6602d74cd83a",
        "colab": {
          "base_uri": "https://localhost:8080/",
          "height": 35
        }
      },
      "source": [
        "X_train.min(), X_train.max()"
      ],
      "execution_count": null,
      "outputs": [
        {
          "output_type": "execute_result",
          "data": {
            "text/plain": [
              "(tensor(0.), tensor(255.))"
            ]
          },
          "metadata": {
            "tags": []
          },
          "execution_count": 6
        }
      ]
    },
    {
      "cell_type": "code",
      "metadata": {
        "id": "JRhygHp5Id7C"
      },
      "source": [
        "X_train /= 255.\n",
        "X_test /= 255."
      ],
      "execution_count": null,
      "outputs": []
    },
    {
      "cell_type": "code",
      "metadata": {
        "id": "ZjhxEB4DUIss",
        "outputId": "8fd9f0da-217f-48a8-dd28-2051a5bf77d0",
        "colab": {
          "base_uri": "https://localhost:8080/",
          "height": 199
        }
      },
      "source": [
        "CIFAR_train.classes"
      ],
      "execution_count": null,
      "outputs": [
        {
          "output_type": "execute_result",
          "data": {
            "text/plain": [
              "['airplane',\n",
              " 'automobile',\n",
              " 'bird',\n",
              " 'cat',\n",
              " 'deer',\n",
              " 'dog',\n",
              " 'frog',\n",
              " 'horse',\n",
              " 'ship',\n",
              " 'truck']"
            ]
          },
          "metadata": {
            "tags": []
          },
          "execution_count": 8
        }
      ]
    },
    {
      "cell_type": "code",
      "metadata": {
        "id": "AylTXltFIluJ",
        "outputId": "f58389d9-4865-40f3-b66c-2b13bea01079",
        "colab": {
          "base_uri": "https://localhost:8080/",
          "height": 35
        }
      },
      "source": [
        "X_train.shape, y_train.shape"
      ],
      "execution_count": null,
      "outputs": [
        {
          "output_type": "execute_result",
          "data": {
            "text/plain": [
              "(torch.Size([50000, 32, 32, 3]), torch.Size([50000]))"
            ]
          },
          "metadata": {
            "tags": []
          },
          "execution_count": 10
        }
      ]
    },
    {
      "cell_type": "code",
      "metadata": {
        "id": "LIAbtrWoIt5I"
      },
      "source": [
        "X_train = X_train.permute(0, 3, 1, 2)\n",
        "X_test = X_test.permute(0, 3, 1, 2)"
      ],
      "execution_count": null,
      "outputs": []
    },
    {
      "cell_type": "code",
      "metadata": {
        "id": "tRxsQJZ1JQYC",
        "outputId": "849155c3-46b8-4591-fec4-571fa5d2f981",
        "colab": {
          "base_uri": "https://localhost:8080/",
          "height": 35
        }
      },
      "source": [
        "X_train.shape"
      ],
      "execution_count": null,
      "outputs": [
        {
          "output_type": "execute_result",
          "data": {
            "text/plain": [
              "torch.Size([50000, 3, 32, 32])"
            ]
          },
          "metadata": {
            "tags": []
          },
          "execution_count": 12
        }
      ]
    },
    {
      "cell_type": "code",
      "metadata": {
        "id": "xhsw9soDODel"
      },
      "source": [
        "class LeNet5(torch.nn.Module):\n",
        "    def __init__(self,\n",
        "                 activation='tanh',\n",
        "                 pooling='avg',\n",
        "                 conv_size=5, \n",
        "                 use_batch_norm=False):\n",
        "        super(LeNet5, self).__init__()\n",
        "        \n",
        "        self.conv_size = conv_size\n",
        "        self.use_batch_norm = use_batch_norm\n",
        "        \n",
        "        if activation == 'tanh':\n",
        "            activation_function = torch.nn.Tanh()\n",
        "        elif activation == 'relu':\n",
        "            activation_function  = torch.nn.ReLU()\n",
        "        else:\n",
        "            raise NotImplementedError\n",
        "            \n",
        "        if pooling == 'avg':\n",
        "            pooling_layer = torch.nn.AvgPool2d(kernel_size=2, stride=2)\n",
        "        elif pooling == 'max':\n",
        "            pooling_layer  = torch.nn.MaxPool2d(kernel_size=2, stride=2)\n",
        "        else:\n",
        "            raise NotImplementedError\n",
        "        \n",
        "        if conv_size == 5:\n",
        "            self.conv1 = torch.nn.Conv2d(\n",
        "                in_channels=3, out_channels=6, kernel_size=5, padding=0)\n",
        "        elif conv_size == 3:\n",
        "            self.conv1_1 = torch.nn.Conv2d(\n",
        "                in_channels=3, out_channels=6, kernel_size=3, padding=0)\n",
        "            self.conv1_2 = torch.nn.Conv2d(\n",
        "                in_channels=6, out_channels=6, kernel_size=3, padding=0)\n",
        "        else:\n",
        "            raise NotImplementedError\n",
        "\n",
        "        self.act1 = activation_function\n",
        "        self.bn1 = torch.nn.BatchNorm2d(num_features=6)\n",
        "        self.pool1 = pooling_layer\n",
        "       \n",
        "        if conv_size == 5:\n",
        "            self.conv2 = self.conv2 = torch.nn.Conv2d(\n",
        "                in_channels=6, out_channels=16, kernel_size=5, padding=0)\n",
        "        elif conv_size == 3:\n",
        "            self.conv2_1 = torch.nn.Conv2d(\n",
        "                in_channels=6, out_channels=16, kernel_size=3, padding=0)\n",
        "            self.conv2_2 = torch.nn.Conv2d(\n",
        "                in_channels=16, out_channels=16, kernel_size=3, padding=0)\n",
        "        else:\n",
        "            raise NotImplementedError\n",
        "\n",
        "        self.act2 = activation_function\n",
        "        self.bn2 = torch.nn.BatchNorm2d(num_features=16)\n",
        "        self.pool2 = pooling_layer\n",
        "        \n",
        "        self.fc1 = torch.nn.Linear(5 * 5 * 16, 120)\n",
        "        self.act3 = activation_function\n",
        "    \n",
        "        self.fc2 = torch.nn.Linear(120, 84)\n",
        "        self.act4 = activation_function\n",
        "        \n",
        "        self.fc3 = torch.nn.Linear(84, 10)\n",
        "    \n",
        "    def forward(self, x):\n",
        "        if self.conv_size == 5:\n",
        "            x = self.conv1(x)\n",
        "        elif self.conv_size == 3:\n",
        "            x = self.conv1_2(self.conv1_1(x))\n",
        "        x = self.act1(x)\n",
        "        if self.use_batch_norm:\n",
        "            x = self.bn1(x)\n",
        "        x = self.pool1(x)\n",
        "        \n",
        "        if self.conv_size == 5:\n",
        "            x = self.conv2(x)\n",
        "        elif self.conv_size == 3:\n",
        "            x = self.conv2_2(self.conv2_1(x))\n",
        "        x = self.act2(x)\n",
        "        if self.use_batch_norm:\n",
        "            x = self.bn2(x)\n",
        "        x = self.pool2(x)\n",
        "        \n",
        "        x = x.view(x.size(0), x.size(1) * x.size(2) * x.size(3))\n",
        "        x = self.fc1(x)\n",
        "        x = self.act3(x)\n",
        "        x = self.fc2(x)\n",
        "        x = self.act4(x)\n",
        "        x = self.fc3(x)\n",
        "        \n",
        "        return x"
      ],
      "execution_count": null,
      "outputs": []
    },
    {
      "cell_type": "code",
      "metadata": {
        "id": "XfA9gqSdNZfQ",
        "outputId": "48e9e78a-6a0c-4434-fdf9-b5af332e046c",
        "colab": {
          "base_uri": "https://localhost:8080/",
          "height": 1000
        }
      },
      "source": [
        "def train(net, X_train, y_train, X_test, y_test):\n",
        "    device = torch.device('cuda:0' if torch.cuda.is_available() else 'cpu')\n",
        "    net = net.to(device)\n",
        "    loss = torch.nn.CrossEntropyLoss()\n",
        "    optimizer = torch.optim.Adam(net.parameters(), lr=1.0e-3)\n",
        "    \n",
        "    batch_size = 100\n",
        "\n",
        "    test_accuracy_history = []\n",
        "    test_loss_history = []\n",
        "\n",
        "    X_test = X_test.to(device)\n",
        "    y_test = y_test.to(device)\n",
        "\n",
        "    for epoch in range(30):\n",
        "        order = np.random.permutation(len(X_train))\n",
        "        for start_index in range(0, len(X_train), batch_size):\n",
        "            optimizer.zero_grad()\n",
        "            net.train()\n",
        "\n",
        "            batch_indexes = order[start_index:start_index+batch_size]\n",
        "\n",
        "            X_batch = X_train[batch_indexes].to(device)\n",
        "            y_batch = y_train[batch_indexes].to(device)\n",
        "\n",
        "            preds = net.forward(X_batch)\n",
        "\n",
        "            loss_value = loss(preds, y_batch)\n",
        "            loss_value.backward()\n",
        "\n",
        "            optimizer.step()\n",
        "            \n",
        "            X_batch\n",
        "\n",
        "        net.eval()\n",
        "        test_preds = net.forward(X_test)\n",
        "        test_loss_history.append(loss(test_preds, y_test).data.cpu())\n",
        "\n",
        "        accuracy = (test_preds.argmax(dim=1) == y_test).float().mean().data.cpu()\n",
        "        test_accuracy_history.append(accuracy)\n",
        "\n",
        "        print(accuracy)\n",
        "    del net\n",
        "    return test_accuracy_history, test_loss_history\n",
        "\n",
        "accuracies = {}\n",
        "losses = {}\n",
        "\n",
        "\n",
        "accuracies['relu_3_max_pool'], losses['relu_3_max_pool'] = \\\n",
        "    train(LeNet5(activation='relu', conv_size=3, pooling='max'), \n",
        "          X_train, y_train, X_test, y_test)\n"
      ],
      "execution_count": null,
      "outputs": [
        {
          "output_type": "stream",
          "text": [
            "tensor(0.3876)\n",
            "tensor(0.4334)\n",
            "tensor(0.4709)\n",
            "tensor(0.4962)\n",
            "tensor(0.4969)\n",
            "tensor(0.5182)\n",
            "tensor(0.5263)\n",
            "tensor(0.5363)\n",
            "tensor(0.5425)\n",
            "tensor(0.5401)\n",
            "tensor(0.5462)\n",
            "tensor(0.5455)\n",
            "tensor(0.5432)\n",
            "tensor(0.5542)\n",
            "tensor(0.5565)\n",
            "tensor(0.5588)\n",
            "tensor(0.5550)\n",
            "tensor(0.5537)\n",
            "tensor(0.5534)\n",
            "tensor(0.5523)\n",
            "tensor(0.5545)\n",
            "tensor(0.5500)\n",
            "tensor(0.5449)\n",
            "tensor(0.5490)\n",
            "tensor(0.5471)\n",
            "tensor(0.5472)\n",
            "tensor(0.5427)\n",
            "tensor(0.5429)\n",
            "tensor(0.5394)\n",
            "tensor(0.5422)\n",
            "tensor(0.4321)\n",
            "tensor(0.4772)\n",
            "tensor(0.4852)\n",
            "tensor(0.5230)\n",
            "tensor(0.5283)\n",
            "tensor(0.5341)\n",
            "tensor(0.5611)\n",
            "tensor(0.5613)\n",
            "tensor(0.5801)\n",
            "tensor(0.5827)\n",
            "tensor(0.5894)\n",
            "tensor(0.5824)\n",
            "tensor(0.5982)\n",
            "tensor(0.6031)\n",
            "tensor(0.6007)\n",
            "tensor(0.5995)\n",
            "tensor(0.6087)\n",
            "tensor(0.6109)\n",
            "tensor(0.6129)\n",
            "tensor(0.6181)\n",
            "tensor(0.6167)\n",
            "tensor(0.6190)\n",
            "tensor(0.6285)\n",
            "tensor(0.6245)\n",
            "tensor(0.6267)\n",
            "tensor(0.6264)\n",
            "tensor(0.6220)\n",
            "tensor(0.6279)\n",
            "tensor(0.6170)\n",
            "tensor(0.6238)\n",
            "tensor(0.3744)\n",
            "tensor(0.4588)\n",
            "tensor(0.4998)\n",
            "tensor(0.5190)\n",
            "tensor(0.5287)\n",
            "tensor(0.5461)\n",
            "tensor(0.5570)\n",
            "tensor(0.5505)\n",
            "tensor(0.5644)\n",
            "tensor(0.5723)\n",
            "tensor(0.5727)\n",
            "tensor(0.5894)\n",
            "tensor(0.5893)\n",
            "tensor(0.5913)\n",
            "tensor(0.6041)\n",
            "tensor(0.5974)\n",
            "tensor(0.5995)\n",
            "tensor(0.5999)\n",
            "tensor(0.6147)\n",
            "tensor(0.6097)\n",
            "tensor(0.6106)\n",
            "tensor(0.6090)\n",
            "tensor(0.6121)\n",
            "tensor(0.6106)\n",
            "tensor(0.6108)\n",
            "tensor(0.6100)\n",
            "tensor(0.6041)\n",
            "tensor(0.6105)\n",
            "tensor(0.6099)\n",
            "tensor(0.6129)\n",
            "tensor(0.3977)\n",
            "tensor(0.4657)\n",
            "tensor(0.5054)\n",
            "tensor(0.5348)\n",
            "tensor(0.5657)\n",
            "tensor(0.5714)\n",
            "tensor(0.5819)\n",
            "tensor(0.5888)\n",
            "tensor(0.6040)\n",
            "tensor(0.6167)\n",
            "tensor(0.6166)\n",
            "tensor(0.6268)\n",
            "tensor(0.6259)\n",
            "tensor(0.6302)\n",
            "tensor(0.6378)\n",
            "tensor(0.6406)\n",
            "tensor(0.6328)\n",
            "tensor(0.6351)\n",
            "tensor(0.6393)\n",
            "tensor(0.6436)\n",
            "tensor(0.6450)\n",
            "tensor(0.6426)\n",
            "tensor(0.6412)\n",
            "tensor(0.6483)\n",
            "tensor(0.6498)\n",
            "tensor(0.6523)\n",
            "tensor(0.6479)\n",
            "tensor(0.6519)\n",
            "tensor(0.6427)\n",
            "tensor(0.6479)\n",
            "tensor(0.5402)\n",
            "tensor(0.5768)\n",
            "tensor(0.6011)\n",
            "tensor(0.6403)\n",
            "tensor(0.6389)\n",
            "tensor(0.6532)\n",
            "tensor(0.6537)\n",
            "tensor(0.6534)\n",
            "tensor(0.6452)\n",
            "tensor(0.6559)\n",
            "tensor(0.6593)\n",
            "tensor(0.6300)\n",
            "tensor(0.6473)\n",
            "tensor(0.6509)\n",
            "tensor(0.6537)\n",
            "tensor(0.6451)\n",
            "tensor(0.6476)\n",
            "tensor(0.6394)\n",
            "tensor(0.6333)\n",
            "tensor(0.6420)\n",
            "tensor(0.6395)\n",
            "tensor(0.6389)\n",
            "tensor(0.6303)\n",
            "tensor(0.6365)\n",
            "tensor(0.6358)\n",
            "tensor(0.6334)\n",
            "tensor(0.6332)\n",
            "tensor(0.6313)\n",
            "tensor(0.6244)\n",
            "tensor(0.6326)\n"
          ],
          "name": "stdout"
        }
      ]
    },
    {
      "cell_type": "code",
      "metadata": {
        "id": "9RunsQU1Ll27"
      },
      "source": [
        "class CIFARNet(torch.nn.Module):\n",
        "    def __init__(self):\n",
        "        super(CIFARNet, self).__init__()\n",
        "        self.batch_norm0 = torch.nn.BatchNorm2d(3)\n",
        "\n",
        "        self.conv1 = torch.nn.Conv2d(3, 16, 3, padding=1)\n",
        "        self.act1  = torch.nn.ReLU()\n",
        "        self.batch_norm1 = torch.nn.BatchNorm2d(16)\n",
        "        self.pool1 = torch.nn.MaxPool2d(2, 2)\n",
        "        \n",
        "        self.conv2 = torch.nn.Conv2d(16, 32, 3, padding=1)\n",
        "        self.act2  = torch.nn.ReLU()\n",
        "        self.batch_norm2 = torch.nn.BatchNorm2d(32)\n",
        "        self.pool2 = torch.nn.MaxPool2d(2, 2)\n",
        "        \n",
        "        self.conv3 = torch.nn.Conv2d(32, 64, 3, padding=1)\n",
        "        self.act3  = torch.nn.ReLU()\n",
        "        self.batch_norm3 = torch.nn.BatchNorm2d(64)\n",
        "\n",
        "        self.fc1   = torch.nn.Linear(8 * 8 * 64, 256)\n",
        "        self.act4  = torch.nn.Tanh()\n",
        "        self.batch_norm4 = torch.nn.BatchNorm1d(256)\n",
        "        \n",
        "        self.fc2   = torch.nn.Linear(256, 64)\n",
        "        self.act5  = torch.nn.Tanh()\n",
        "        self.batch_norm5 = torch.nn.BatchNorm1d(64)\n",
        "        \n",
        "        self.fc3   = torch.nn.Linear(64, 10)\n",
        "    \n",
        "    def forward(self, x):\n",
        "        x = self.batch_norm0(x)\n",
        "        x = self.conv1(x)\n",
        "        x = self.act1(x)\n",
        "        x = self.batch_norm1(x)\n",
        "        x = self.pool1(x)\n",
        "        \n",
        "        x = self.conv2(x)\n",
        "        x = self.act2(x)\n",
        "        x = self.batch_norm2(x)\n",
        "        x = self.pool2(x)\n",
        "        \n",
        "        x = self.conv3(x)\n",
        "        x = self.act3(x)\n",
        "        x = self.batch_norm3(x)\n",
        "        \n",
        "        x = x.view(x.size(0), x.size(1) * x.size(2) * x.size(3))\n",
        "        x = self.fc1(x)\n",
        "        x = self.act4(x)\n",
        "        x = self.batch_norm4(x)\n",
        "        x = self.fc2(x)\n",
        "        x = self.act5(x)\n",
        "        x = self.batch_norm5(x)\n",
        "        x = self.fc3(x)\n",
        "        \n",
        "        return x"
      ],
      "execution_count": null,
      "outputs": []
    },
    {
      "cell_type": "code",
      "metadata": {
        "id": "3lIIDAzfAzhy",
        "outputId": "5e59cf06-50ab-4d2a-c837-3c865d972a79",
        "colab": {
          "base_uri": "https://localhost:8080/",
          "height": 563
        }
      },
      "source": [
        "accuracies['cifar_net'], losses['cifar_net'] = \\\n",
        "    train(CIFARNet(), X_train, y_train, X_test, y_test)"
      ],
      "execution_count": null,
      "outputs": [
        {
          "output_type": "stream",
          "text": [
            "tensor(0.6743)\n",
            "tensor(0.7018)\n",
            "tensor(0.7080)\n",
            "tensor(0.7138)\n",
            "tensor(0.7311)\n",
            "tensor(0.7212)\n",
            "tensor(0.7193)\n",
            "tensor(0.7083)\n",
            "tensor(0.7254)\n",
            "tensor(0.7144)\n",
            "tensor(0.7162)\n",
            "tensor(0.7121)\n",
            "tensor(0.7127)\n",
            "tensor(0.7251)\n",
            "tensor(0.7102)\n",
            "tensor(0.7238)\n",
            "tensor(0.7245)\n",
            "tensor(0.7174)\n",
            "tensor(0.7150)\n",
            "tensor(0.7203)\n",
            "tensor(0.7167)\n",
            "tensor(0.7216)\n",
            "tensor(0.7156)\n",
            "tensor(0.7207)\n",
            "tensor(0.7277)\n",
            "tensor(0.7184)\n",
            "tensor(0.7239)\n",
            "tensor(0.7214)\n",
            "tensor(0.7148)\n",
            "tensor(0.7202)\n"
          ],
          "name": "stdout"
        }
      ]
    }
  ]
}