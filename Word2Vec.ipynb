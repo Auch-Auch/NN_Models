{
  "nbformat": 4,
  "nbformat_minor": 0,
  "metadata": {
    "kernelspec": {
      "display_name": "Python 3",
      "language": "python",
      "name": "python3"
    },
    "language_info": {
      "codemirror_mode": {
        "name": "ipython",
        "version": 3
      },
      "file_extension": ".py",
      "mimetype": "text/x-python",
      "name": "python",
      "nbconvert_exporter": "python",
      "pygments_lexer": "ipython3",
      "version": "3.8.3-final"
    },
    "colab": {
      "name": "Word2Vec.ipynb",
      "provenance": []
    },
    "accelerator": "GPU"
  },
  "cells": [
    {
      "cell_type": "markdown",
      "metadata": {
        "id": "Al9Ye352pUdu"
      },
      "source": [
        "# Word2Vec\n"
      ]
    },
    {
      "cell_type": "code",
      "metadata": {
        "id": "plhj6IGFpUdx"
      },
      "source": [
        "import torch\n",
        "import torch.nn as nn\n",
        "import torch.optim as optim\n",
        "from torch.utils.data import Dataset\n",
        "\n",
        "from torchvision import transforms\n",
        "\n",
        "import numpy as np\n",
        "import matplotlib.pyplot as plt\n",
        "\n",
        "from sklearn.decomposition import PCA \n",
        "\n",
        "%matplotlib inline"
      ],
      "execution_count": 1,
      "outputs": []
    },
    {
      "cell_type": "code",
      "metadata": {
        "scrolled": false,
        "tags": [],
        "id": "FSZfgFAKpUd4"
      },
      "source": [
        "import os\n",
        "import numpy as np\n",
        "\n",
        "class StanfordTreeBank:\n",
        "    '''\n",
        "    Wrapper for accessing Stanford Tree Bank Dataset\n",
        "    https://nlp.stanford.edu/sentiment/treebank.html\n",
        "    \n",
        "    Parses dataset, gives each token and index and provides lookups\n",
        "    from string token to index and back\n",
        "    \n",
        "    Allows to generate random context with sampling strategy described in\n",
        "    word2vec paper:\n",
        "    https://papers.nips.cc/paper/5021-distributed-representations-of-words-and-phrases-and-their-compositionality.pdf\n",
        "    '''\n",
        "    def __init__(self):\n",
        "        self.index_by_token = {}\n",
        "        self.token_by_index = []\n",
        "\n",
        "        self.sentences = []\n",
        "\n",
        "        self.token_freq = {}\n",
        "        \n",
        "        self.token_reject_by_index = None\n",
        "\n",
        "    def load_dataset(self, folder):\n",
        "        filename = os.path.join(folder, \"datasetSentences.txt\")\n",
        "\n",
        "        with open(filename, \"r\", encoding=\"latin1\") as f:\n",
        "            l = f.readline() # skip the first line\n",
        "            \n",
        "            for l in f:\n",
        "                splitted_line = l.strip().split()\n",
        "                words = [w.lower() for w in splitted_line[1:]] # First one is a number\n",
        "                    \n",
        "                self.sentences.append(words)\n",
        "                for word in words:\n",
        "                    if word in self.token_freq:\n",
        "                        self.token_freq[word] +=1 \n",
        "                    else:\n",
        "                        index = len(self.token_by_index)\n",
        "                        self.token_freq[word] = 1\n",
        "                        self.index_by_token[word] = index\n",
        "                        self.token_by_index.append(word)\n",
        "        self.compute_token_prob()\n",
        "                        \n",
        "    def compute_token_prob(self):\n",
        "        words_count = np.array([self.token_freq[token] for token in self.token_by_index])\n",
        "        words_freq = words_count / np.sum(words_count)\n",
        "        self.token_reject_by_index = 1- np.sqrt(1e-5/words_freq)\n",
        "    \n",
        "    def check_reject(self, word):\n",
        "        return np.random.rand() > self.token_reject_by_index[self.index_by_token[word]]\n",
        "        \n",
        "    def get_random_context(self, context_length=5):\n",
        "        \"\"\"\n",
        "        Returns tuple of center word and list of context words\n",
        "        \"\"\"\n",
        "        sentence_sampled = []\n",
        "        while len(sentence_sampled) <= 2:\n",
        "            sentence_index = np.random.randint(len(self.sentences)) \n",
        "            sentence = self.sentences[sentence_index]\n",
        "            sentence_sampled = [word for word in sentence if self.check_reject(word)]\n",
        "    \n",
        "        center_word_index = np.random.randint(len(sentence_sampled))\n",
        "        \n",
        "        words_before = sentence_sampled[max(center_word_index - context_length//2,0):center_word_index]\n",
        "        words_after = sentence_sampled[center_word_index+1: center_word_index+1+context_length//2]\n",
        "        \n",
        "        return sentence_sampled[center_word_index], words_before+words_after\n",
        "    \n",
        "    def num_tokens(self):\n",
        "        return len(self.token_by_index)\n",
        "        \n",
        "data = StanfordTreeBank()\n",
        "data.load_dataset(\"./stanfordSentimentTreebank/\")\n",
        "\n",
        "print(\"Num tokens:\", data.num_tokens())\n",
        "for i in range(5):\n",
        "    center_word, other_words = data.get_random_context(5)\n",
        "    print(center_word, other_words)"
      ],
      "execution_count": null,
      "outputs": []
    },
    {
      "cell_type": "code",
      "metadata": {
        "tags": [],
        "id": "a6q2Ky2ypUeB"
      },
      "source": [
        "\n",
        "def get_word_vector(word_idx):\n",
        "    x = torch.zeros(data.num_tokens()).float()\n",
        "    x[word_idx] = 1.0\n",
        "    return x\n",
        "\n",
        "\n"
      ],
      "execution_count": null,
      "outputs": []
    },
    {
      "cell_type": "code",
      "metadata": {
        "tags": [],
        "id": "AAH7v0qapUeF",
        "outputId": "0f7cc99e-e8d7-46a1-bf47-a1757083dbc3",
        "colab": {
          "base_uri": "https://localhost:8080/"
        }
      },
      "source": [
        "class Word2VecPlain(Dataset):\n",
        "    '''\n",
        "    PyTorch Dataset for plain Word2Vec.\n",
        "    Accepts StanfordTreebank as data and is able to generate dataset based on\n",
        "    a number of random contexts\n",
        "    '''\n",
        "    def __init__(self, data, num_contexts=30000):\n",
        "        '''\n",
        "        Initializes Word2VecPlain, but doesn't generate the samples yet\n",
        "        (for that, use generate_dataset)\n",
        "        Arguments:\n",
        "        data - StanfordTreebank instace\n",
        "        num_contexts - number of random contexts to use when generating a dataset\n",
        "        '''\n",
        "        self.data = data\n",
        "        self.num_contexts = num_contexts\n",
        "        self.samples = []\n",
        "        self.num_tokens = self.data.num_tokens()\n",
        "\n",
        "    def generate_dataset(self):\n",
        "        '''\n",
        "        Generates dataset samples from random contexts\n",
        "        Note: there will be more samples than contexts because every context\n",
        "        can generate more than one sample\n",
        "        '''\n",
        "        self.samples = []\n",
        "        for _ in range(self.num_contexts):\n",
        "            center_word, other_words = self.data.get_random_context(5)\n",
        "            word_index = self.data.index_by_token[f'{center_word}']\n",
        "            for target in other_words:\n",
        "                target_index = self.data.index_by_token[f'{target}']\n",
        "                self.samples.append([word_index, target_index])\n",
        "        return self.samples\n",
        "\n",
        "\n",
        "    def __len__(self):\n",
        "        '''\n",
        "        Returns total number of samples\n",
        "        '''\n",
        "        return len(self.samples)\n",
        "\n",
        "\n",
        "    def __getitem__(self, index):\n",
        "        '''\n",
        "        Returns i-th sample\n",
        "        \n",
        "        Return values:\n",
        "        input_vector - torch.Tensor with one-hot representation of the input vector\n",
        "        output_index - index of the target word (not torch.Tensor!)\n",
        "        '''\n",
        "        input_vector = get_word_vector([self.samples[index][0]])\n",
        "        return input_vector, self.samples[index][1]\n",
        "dataset = Word2VecPlain(data, 10)\n",
        "dataset.generate_dataset()\n",
        "print(len(dataset))\n",
        "input_vector, target = dataset[3]\n",
        "\n",
        "print(\"Sample - input: %s , Target - output: %u\"% (input_vector, target)) # target should be able to convert to int\n",
        "assert isinstance(input_vector, torch.Tensor)\n",
        "assert torch.sum(input_vector) == 1.0\n",
        "assert input_vector.shape[0] == data.num_tokens()"
      ],
      "execution_count": null,
      "outputs": [
        {
          "output_type": "stream",
          "text": [
            "24\n",
            "Sample - input: tensor([0., 0., 0.,  ..., 0., 0., 0.]) , Target - output: 9758\n"
          ],
          "name": "stdout"
        }
      ]
    },
    {
      "cell_type": "code",
      "metadata": {
        "id": "FL4ZnvDRpUeO"
      },
      "source": [
        "\n",
        "dataset = Word2VecPlain(data, 30000)\n",
        "dataset.generate_dataset()\n",
        "\n",
        "wordvec_dim = 200\n",
        "\n",
        "\n",
        "nn_model = nn.Sequential(\n",
        "            nn.Linear(dataset.num_tokens, wordvec_dim, bias=False),\n",
        "            nn.Linear(wordvec_dim, dataset.num_tokens, bias=False), \n",
        "         )\n",
        "nn_model.type(torch.FloatTensor)\n",
        "for param in nn_model.parameters():\n",
        "    param.requires_grad = True\n"
      ],
      "execution_count": null,
      "outputs": []
    },
    {
      "cell_type": "code",
      "metadata": {
        "id": "iLR4Nlfm15Xm"
      },
      "source": [
        "device = torch.device(\"cuda:0\")"
      ],
      "execution_count": null,
      "outputs": []
    },
    {
      "cell_type": "code",
      "metadata": {
        "id": "CAbRskaLpUeV"
      },
      "source": [
        "def train_model(model, dataset, train_loader, optimizer, scheduler, num_epochs):\n",
        "    '''\n",
        "    Trains plain word2vec using cross-entropy loss and regenerating dataset every epoch\n",
        "    \n",
        "    Returns:\n",
        "    loss_history, train_history\n",
        "    '''\n",
        "    \n",
        "    loss = nn.CrossEntropyLoss().type(torch.FloatTensor)\n",
        "    softmax = nn.Softmax(dim=1)\n",
        "    loss_history = []\n",
        "    train_history = []\n",
        "    \n",
        "    for epoch in range(num_epochs):\n",
        "        model.train() # Enter train mode\n",
        "        \n",
        "        dataset.generate_dataset() # Regenerate dataset every epoch\n",
        "        \n",
        "        running_loss = 0\n",
        "        running_acc = 0\n",
        "        correct_samples = 0\n",
        "        total_samples = 0\n",
        "        for i_step, (inputs, targets) in enumerate(train_loader):\n",
        "            inputs = inputs.to(device)\n",
        "            targets = targets.to(device)\n",
        "            preds = nn_model(inputs)\n",
        "            loss_value = loss(preds, targets)\n",
        "            optimizer.zero_grad()\n",
        "            loss_value.backward()\n",
        "            optimizer.step()\n",
        "\n",
        "            running_loss += loss_value\n",
        "           \n",
        "            _, indices = torch.max(preds, 1)\n",
        "            correct_samples += torch.sum(indices == targets)\n",
        "            total_samples += targets.shape[0]\n",
        "        \n",
        "        ave_loss = running_loss / i_step\n",
        "        train_accuracy = float(correct_samples) / total_samples\n",
        "        loss_history.append(float(ave_loss))\n",
        "        train_history.append(train_accuracy)\n",
        "        print(\"Epoch %i, Average loss: %f, Train accuracy: %f\" % (epoch, ave_loss, train_accuracy))\n",
        "        \n",
        "    return loss_history, train_history"
      ],
      "execution_count": null,
      "outputs": []
    },
    {
      "cell_type": "code",
      "metadata": {
        "id": "2viss5QLpUeS"
      },
      "source": [
        "def extract_word_vectors(nn_model):\n",
        "    '''\n",
        "    Extracts word vectors from the model\n",
        "    \n",
        "    Returns:\n",
        "    input_vectors: torch.Tensor with dimensions (num_tokens, num_dimensions)\n",
        "    output_vectors: torch.Tensor with dimensions (num_tokens, num_dimensions)\n",
        "    '''\n",
        "    return list(nn_model.parameters())[0].permute(1, 0), list(nn_model.parameters())[0].permute(1, 0)\n",
        "untrained_input_vectors, untrained_output_vectors = extract_word_vectors(nn_model)\n",
        "assert untrained_input_vectors.shape == (data.num_tokens(), wordvec_dim)\n",
        "assert untrained_output_vectors.shape == (data.num_tokens(), wordvec_dim)"
      ],
      "execution_count": null,
      "outputs": []
    },
    {
      "cell_type": "code",
      "metadata": {
        "id": "JTP3aBKSpUeZ",
        "outputId": "8a11347b-0910-43ef-ac56-7a4229a7d0a7",
        "colab": {
          "base_uri": "https://localhost:8080/"
        }
      },
      "source": [
        "\n",
        "optimizer = optim.Adam(nn_model.parameters(), lr=1.0e-3, amsgrad=True)\n",
        "scheduler = optim.lr_scheduler.StepLR(optimizer, step_size=5, gamma=0.1)\n",
        "train_loader = torch.utils.data.DataLoader(dataset, batch_size=300)\n",
        "\n",
        "loss_history, train_history = train_model(nn_model.to(device), dataset, train_loader, optimizer, scheduler, 200)"
      ],
      "execution_count": null,
      "outputs": [
        {
          "output_type": "stream",
          "text": [
            "Epoch 0, Average loss: 9.900005, Train accuracy: 0.020015\n",
            "Epoch 1, Average loss: 9.742133, Train accuracy: 0.007407\n",
            "Epoch 2, Average loss: 9.567912, Train accuracy: 0.005917\n",
            "Epoch 3, Average loss: 9.469154, Train accuracy: 0.006960\n",
            "Epoch 4, Average loss: 9.400890, Train accuracy: 0.009048\n",
            "Epoch 5, Average loss: 9.350132, Train accuracy: 0.011664\n",
            "Epoch 6, Average loss: 9.268407, Train accuracy: 0.014373\n",
            "Epoch 7, Average loss: 9.191470, Train accuracy: 0.017096\n",
            "Epoch 8, Average loss: 9.103164, Train accuracy: 0.019388\n",
            "Epoch 9, Average loss: 8.999052, Train accuracy: 0.024696\n",
            "Epoch 10, Average loss: 8.889446, Train accuracy: 0.029840\n",
            "Epoch 11, Average loss: 8.753926, Train accuracy: 0.034655\n",
            "Epoch 12, Average loss: 8.618404, Train accuracy: 0.039350\n",
            "Epoch 13, Average loss: 8.455868, Train accuracy: 0.045395\n",
            "Epoch 14, Average loss: 8.318628, Train accuracy: 0.048877\n",
            "Epoch 15, Average loss: 8.137229, Train accuracy: 0.055738\n",
            "Epoch 16, Average loss: 7.978880, Train accuracy: 0.060242\n",
            "Epoch 17, Average loss: 7.806840, Train accuracy: 0.064837\n",
            "Epoch 18, Average loss: 7.663582, Train accuracy: 0.068412\n",
            "Epoch 19, Average loss: 7.478085, Train accuracy: 0.074207\n",
            "Epoch 20, Average loss: 7.345720, Train accuracy: 0.075846\n",
            "Epoch 21, Average loss: 7.213333, Train accuracy: 0.075197\n",
            "Epoch 22, Average loss: 7.048700, Train accuracy: 0.079869\n",
            "Epoch 23, Average loss: 6.960576, Train accuracy: 0.080492\n",
            "Epoch 24, Average loss: 6.824712, Train accuracy: 0.082729\n",
            "Epoch 25, Average loss: 6.737640, Train accuracy: 0.081952\n",
            "Epoch 26, Average loss: 6.631241, Train accuracy: 0.083434\n",
            "Epoch 27, Average loss: 6.553268, Train accuracy: 0.083994\n",
            "Epoch 28, Average loss: 6.478215, Train accuracy: 0.083167\n",
            "Epoch 29, Average loss: 6.396507, Train accuracy: 0.083309\n",
            "Epoch 30, Average loss: 6.346996, Train accuracy: 0.083842\n",
            "Epoch 31, Average loss: 6.287950, Train accuracy: 0.083438\n",
            "Epoch 32, Average loss: 6.197003, Train accuracy: 0.087079\n",
            "Epoch 33, Average loss: 6.154473, Train accuracy: 0.086477\n",
            "Epoch 34, Average loss: 6.113052, Train accuracy: 0.086678\n",
            "Epoch 35, Average loss: 6.049017, Train accuracy: 0.086961\n",
            "Epoch 36, Average loss: 6.018136, Train accuracy: 0.086635\n",
            "Epoch 37, Average loss: 5.980523, Train accuracy: 0.089561\n",
            "Epoch 38, Average loss: 5.949306, Train accuracy: 0.085940\n",
            "Epoch 39, Average loss: 5.924344, Train accuracy: 0.088161\n",
            "Epoch 40, Average loss: 5.885882, Train accuracy: 0.087739\n",
            "Epoch 41, Average loss: 5.857503, Train accuracy: 0.089191\n",
            "Epoch 42, Average loss: 5.823611, Train accuracy: 0.088831\n",
            "Epoch 43, Average loss: 5.792090, Train accuracy: 0.088808\n",
            "Epoch 44, Average loss: 5.775196, Train accuracy: 0.089404\n",
            "Epoch 45, Average loss: 5.719611, Train accuracy: 0.092553\n",
            "Epoch 46, Average loss: 5.715146, Train accuracy: 0.091658\n",
            "Epoch 47, Average loss: 5.685466, Train accuracy: 0.089971\n",
            "Epoch 48, Average loss: 5.656975, Train accuracy: 0.092547\n",
            "Epoch 49, Average loss: 5.674600, Train accuracy: 0.090152\n",
            "Epoch 50, Average loss: 5.622883, Train accuracy: 0.093530\n",
            "Epoch 51, Average loss: 5.584314, Train accuracy: 0.093038\n",
            "Epoch 52, Average loss: 5.563964, Train accuracy: 0.093447\n",
            "Epoch 53, Average loss: 5.546563, Train accuracy: 0.093186\n",
            "Epoch 54, Average loss: 5.531240, Train accuracy: 0.093891\n",
            "Epoch 55, Average loss: 5.536342, Train accuracy: 0.092455\n",
            "Epoch 56, Average loss: 5.514992, Train accuracy: 0.094366\n",
            "Epoch 57, Average loss: 5.511025, Train accuracy: 0.093880\n",
            "Epoch 58, Average loss: 5.452177, Train accuracy: 0.096284\n",
            "Epoch 59, Average loss: 5.445491, Train accuracy: 0.093642\n",
            "Epoch 60, Average loss: 5.430288, Train accuracy: 0.094254\n",
            "Epoch 61, Average loss: 5.423447, Train accuracy: 0.093880\n",
            "Epoch 62, Average loss: 5.429617, Train accuracy: 0.094440\n",
            "Epoch 63, Average loss: 5.405655, Train accuracy: 0.095723\n",
            "Epoch 64, Average loss: 5.365417, Train accuracy: 0.097347\n",
            "Epoch 65, Average loss: 5.372405, Train accuracy: 0.095252\n",
            "Epoch 66, Average loss: 5.341664, Train accuracy: 0.096810\n",
            "Epoch 67, Average loss: 5.346131, Train accuracy: 0.097340\n",
            "Epoch 68, Average loss: 5.339976, Train accuracy: 0.095354\n",
            "Epoch 69, Average loss: 5.314121, Train accuracy: 0.097546\n",
            "Epoch 70, Average loss: 5.318367, Train accuracy: 0.097339\n",
            "Epoch 71, Average loss: 5.292337, Train accuracy: 0.097765\n",
            "Epoch 72, Average loss: 5.258004, Train accuracy: 0.097318\n",
            "Epoch 73, Average loss: 5.287064, Train accuracy: 0.096223\n",
            "Epoch 74, Average loss: 5.252647, Train accuracy: 0.097498\n",
            "Epoch 75, Average loss: 5.251556, Train accuracy: 0.096682\n",
            "Epoch 76, Average loss: 5.268227, Train accuracy: 0.096593\n",
            "Epoch 77, Average loss: 5.238489, Train accuracy: 0.096778\n",
            "Epoch 78, Average loss: 5.228015, Train accuracy: 0.097514\n",
            "Epoch 79, Average loss: 5.222111, Train accuracy: 0.097272\n",
            "Epoch 80, Average loss: 5.237280, Train accuracy: 0.095834\n",
            "Epoch 81, Average loss: 5.227911, Train accuracy: 0.096348\n",
            "Epoch 82, Average loss: 5.202204, Train accuracy: 0.099069\n",
            "Epoch 83, Average loss: 5.215677, Train accuracy: 0.096691\n",
            "Epoch 84, Average loss: 5.206553, Train accuracy: 0.096202\n",
            "Epoch 85, Average loss: 5.165459, Train accuracy: 0.097655\n",
            "Epoch 86, Average loss: 5.144593, Train accuracy: 0.098242\n",
            "Epoch 87, Average loss: 5.148772, Train accuracy: 0.097311\n",
            "Epoch 88, Average loss: 5.152021, Train accuracy: 0.096650\n",
            "Epoch 89, Average loss: 5.161011, Train accuracy: 0.095346\n",
            "Epoch 90, Average loss: 5.144296, Train accuracy: 0.096790\n",
            "Epoch 91, Average loss: 5.111482, Train accuracy: 0.098045\n",
            "Epoch 92, Average loss: 5.140587, Train accuracy: 0.097796\n",
            "Epoch 93, Average loss: 5.126988, Train accuracy: 0.096617\n",
            "Epoch 94, Average loss: 5.115927, Train accuracy: 0.096967\n",
            "Epoch 95, Average loss: 5.133572, Train accuracy: 0.097017\n",
            "Epoch 96, Average loss: 5.109937, Train accuracy: 0.097061\n",
            "Epoch 97, Average loss: 5.098432, Train accuracy: 0.098527\n",
            "Epoch 98, Average loss: 5.064193, Train accuracy: 0.099484\n",
            "Epoch 99, Average loss: 5.078382, Train accuracy: 0.097106\n",
            "Epoch 100, Average loss: 5.063671, Train accuracy: 0.097509\n",
            "Epoch 101, Average loss: 5.054271, Train accuracy: 0.098528\n",
            "Epoch 102, Average loss: 5.075191, Train accuracy: 0.097860\n",
            "Epoch 103, Average loss: 5.047848, Train accuracy: 0.098450\n",
            "Epoch 104, Average loss: 5.059003, Train accuracy: 0.096907\n",
            "Epoch 105, Average loss: 5.044930, Train accuracy: 0.098509\n",
            "Epoch 106, Average loss: 5.029243, Train accuracy: 0.097934\n",
            "Epoch 107, Average loss: 5.047217, Train accuracy: 0.098855\n",
            "Epoch 108, Average loss: 5.040238, Train accuracy: 0.098616\n",
            "Epoch 109, Average loss: 5.037882, Train accuracy: 0.098132\n",
            "Epoch 110, Average loss: 5.044038, Train accuracy: 0.097533\n",
            "Epoch 111, Average loss: 4.986947, Train accuracy: 0.100031\n",
            "Epoch 112, Average loss: 5.000381, Train accuracy: 0.097949\n",
            "Epoch 113, Average loss: 5.025292, Train accuracy: 0.097164\n",
            "Epoch 114, Average loss: 5.022890, Train accuracy: 0.096862\n",
            "Epoch 115, Average loss: 5.009201, Train accuracy: 0.098282\n",
            "Epoch 116, Average loss: 5.005394, Train accuracy: 0.099085\n",
            "Epoch 117, Average loss: 4.966041, Train accuracy: 0.100446\n",
            "Epoch 118, Average loss: 5.012904, Train accuracy: 0.097622\n",
            "Epoch 119, Average loss: 4.991951, Train accuracy: 0.098264\n",
            "Epoch 120, Average loss: 4.964200, Train accuracy: 0.098457\n",
            "Epoch 121, Average loss: 4.979141, Train accuracy: 0.098315\n",
            "Epoch 122, Average loss: 4.967260, Train accuracy: 0.099169\n",
            "Epoch 123, Average loss: 4.982065, Train accuracy: 0.098268\n",
            "Epoch 124, Average loss: 4.964722, Train accuracy: 0.099035\n",
            "Epoch 125, Average loss: 4.986917, Train accuracy: 0.096736\n",
            "Epoch 126, Average loss: 4.981595, Train accuracy: 0.095437\n",
            "Epoch 127, Average loss: 4.925840, Train accuracy: 0.098421\n",
            "Epoch 128, Average loss: 4.966115, Train accuracy: 0.098591\n",
            "Epoch 129, Average loss: 4.946140, Train accuracy: 0.097971\n",
            "Epoch 130, Average loss: 4.939342, Train accuracy: 0.098149\n",
            "Epoch 131, Average loss: 4.941479, Train accuracy: 0.097889\n",
            "Epoch 132, Average loss: 4.938455, Train accuracy: 0.097749\n",
            "Epoch 133, Average loss: 4.919656, Train accuracy: 0.098933\n",
            "Epoch 134, Average loss: 4.936774, Train accuracy: 0.097710\n",
            "Epoch 135, Average loss: 4.920761, Train accuracy: 0.098091\n",
            "Epoch 136, Average loss: 4.941933, Train accuracy: 0.095976\n",
            "Epoch 137, Average loss: 4.893149, Train accuracy: 0.098907\n",
            "Epoch 138, Average loss: 4.917716, Train accuracy: 0.097259\n",
            "Epoch 139, Average loss: 4.893597, Train accuracy: 0.098375\n",
            "Epoch 140, Average loss: 4.925981, Train accuracy: 0.097879\n",
            "Epoch 141, Average loss: 4.919613, Train accuracy: 0.097467\n",
            "Epoch 142, Average loss: 4.893887, Train accuracy: 0.098830\n",
            "Epoch 143, Average loss: 4.896405, Train accuracy: 0.097191\n",
            "Epoch 144, Average loss: 4.891852, Train accuracy: 0.098773\n",
            "Epoch 145, Average loss: 4.917603, Train accuracy: 0.096591\n",
            "Epoch 146, Average loss: 4.899592, Train accuracy: 0.097514\n",
            "Epoch 147, Average loss: 4.889265, Train accuracy: 0.098051\n",
            "Epoch 148, Average loss: 4.905268, Train accuracy: 0.097065\n",
            "Epoch 149, Average loss: 4.879435, Train accuracy: 0.096960\n",
            "Epoch 150, Average loss: 4.890829, Train accuracy: 0.098741\n",
            "Epoch 151, Average loss: 4.873619, Train accuracy: 0.099234\n",
            "Epoch 152, Average loss: 4.897704, Train accuracy: 0.097208\n",
            "Epoch 153, Average loss: 4.874302, Train accuracy: 0.099152\n",
            "Epoch 154, Average loss: 4.882235, Train accuracy: 0.099393\n",
            "Epoch 155, Average loss: 4.864270, Train accuracy: 0.097229\n",
            "Epoch 156, Average loss: 4.869705, Train accuracy: 0.098409\n",
            "Epoch 157, Average loss: 4.870367, Train accuracy: 0.098538\n",
            "Epoch 158, Average loss: 4.889083, Train accuracy: 0.097521\n",
            "Epoch 159, Average loss: 4.858970, Train accuracy: 0.098070\n",
            "Epoch 160, Average loss: 4.878342, Train accuracy: 0.098349\n",
            "Epoch 161, Average loss: 4.872391, Train accuracy: 0.097608\n",
            "Epoch 162, Average loss: 4.851325, Train accuracy: 0.098222\n",
            "Epoch 163, Average loss: 4.867648, Train accuracy: 0.098139\n",
            "Epoch 164, Average loss: 4.850657, Train accuracy: 0.099067\n",
            "Epoch 165, Average loss: 4.827343, Train accuracy: 0.098822\n",
            "Epoch 166, Average loss: 4.837280, Train accuracy: 0.098909\n",
            "Epoch 167, Average loss: 4.859012, Train accuracy: 0.096736\n",
            "Epoch 168, Average loss: 4.835438, Train accuracy: 0.098785\n",
            "Epoch 169, Average loss: 4.820786, Train accuracy: 0.097988\n",
            "Epoch 170, Average loss: 4.838360, Train accuracy: 0.099260\n",
            "Epoch 171, Average loss: 4.849306, Train accuracy: 0.097481\n",
            "Epoch 172, Average loss: 4.845077, Train accuracy: 0.095987\n",
            "Epoch 173, Average loss: 4.804664, Train accuracy: 0.099756\n",
            "Epoch 174, Average loss: 4.826174, Train accuracy: 0.099185\n",
            "Epoch 175, Average loss: 4.845946, Train accuracy: 0.096499\n",
            "Epoch 176, Average loss: 4.786919, Train accuracy: 0.100117\n",
            "Epoch 177, Average loss: 4.827193, Train accuracy: 0.097149\n",
            "Epoch 178, Average loss: 4.847784, Train accuracy: 0.097060\n",
            "Epoch 179, Average loss: 4.840030, Train accuracy: 0.096318\n",
            "Epoch 180, Average loss: 4.804607, Train accuracy: 0.098826\n",
            "Epoch 181, Average loss: 4.810795, Train accuracy: 0.098649\n",
            "Epoch 182, Average loss: 4.811895, Train accuracy: 0.097184\n",
            "Epoch 183, Average loss: 4.808518, Train accuracy: 0.098481\n",
            "Epoch 184, Average loss: 4.802941, Train accuracy: 0.097448\n",
            "Epoch 185, Average loss: 4.805652, Train accuracy: 0.097456\n",
            "Epoch 186, Average loss: 4.813469, Train accuracy: 0.098563\n",
            "Epoch 187, Average loss: 4.797897, Train accuracy: 0.097941\n",
            "Epoch 188, Average loss: 4.797098, Train accuracy: 0.098534\n",
            "Epoch 189, Average loss: 4.822453, Train accuracy: 0.097256\n",
            "Epoch 190, Average loss: 4.816760, Train accuracy: 0.097339\n",
            "Epoch 191, Average loss: 4.792244, Train accuracy: 0.097702\n",
            "Epoch 192, Average loss: 4.804639, Train accuracy: 0.098005\n",
            "Epoch 193, Average loss: 4.803368, Train accuracy: 0.097306\n",
            "Epoch 194, Average loss: 4.771681, Train accuracy: 0.098575\n",
            "Epoch 195, Average loss: 4.817658, Train accuracy: 0.097253\n",
            "Epoch 196, Average loss: 4.802736, Train accuracy: 0.098395\n",
            "Epoch 197, Average loss: 4.816913, Train accuracy: 0.094937\n",
            "Epoch 198, Average loss: 4.778562, Train accuracy: 0.098673\n",
            "Epoch 199, Average loss: 4.776621, Train accuracy: 0.100193\n"
          ],
          "name": "stdout"
        }
      ]
    },
    {
      "cell_type": "code",
      "metadata": {
        "id": "_2jwONXJpUec",
        "outputId": "12650700-1934-446a-b108-66e28d2d1553",
        "colab": {
          "base_uri": "https://localhost:8080/",
          "height": 282
        }
      },
      "source": [
        "# Visualize training graphs\n",
        "plt.subplot(211)\n",
        "plt.plot(train_history)\n",
        "plt.subplot(212)\n",
        "plt.plot(loss_history)"
      ],
      "execution_count": null,
      "outputs": [
        {
          "output_type": "execute_result",
          "data": {
            "text/plain": [
              "[<matplotlib.lines.Line2D at 0x7f7fca22a1d0>]"
            ]
          },
          "metadata": {
            "tags": []
          },
          "execution_count": 17
        },
        {
          "output_type": "display_data",
          "data": {
            "image/png": "[encoded data removed]",
            "text/plain": [
              "<Figure size 432x288 with 2 Axes>"
            ]
          },
          "metadata": {
            "tags": [],
            "needs_background": "light"
          }
        }
      ]
    },
    {
      "cell_type": "code",
      "metadata": {
        "id": "E0BRet0ApUef",
        "outputId": "d37ec219-d97a-45d0-e13c-ed87ce502918",
        "colab": {
          "base_uri": "https://localhost:8080/",
          "height": 941
        }
      },
      "source": [
        "trained_input_vectors, trained_output_vectors = extract_word_vectors(nn_model)\n",
        "assert trained_input_vectors.shape == (data.num_tokens(), wordvec_dim)\n",
        "assert trained_output_vectors.shape == (data.num_tokens(), wordvec_dim)\n",
        "\n",
        "def visualize_vectors(input_vectors, output_vectors, title=''):\n",
        "    full_vectors = torch.cat((input_vectors, output_vectors), 0)\n",
        "    wordvec_embedding = PCA(n_components=2).fit_transform(full_vectors.cpu().detach().numpy())\n",
        "\n",
        "   \n",
        "    visualize_words = {'green': [\"the\", \"a\", \"an\"], \n",
        "                      'blue': [\",\", \".\", \"?\", \"!\", \"``\", \"''\", \"--\"], \n",
        "                      'brown': [\"good\", \"great\", \"cool\", \"brilliant\", \"wonderful\", \n",
        "                              \"well\", \"amazing\", \"worth\", \"sweet\", \"enjoyable\"],\n",
        "                      'orange': [\"boring\", \"bad\", \"waste\", \"dumb\", \"annoying\", \"stupid\"],\n",
        "                      'red': ['tell', 'told', 'said', 'say', 'says', 'tells', 'goes', 'go', 'went']\n",
        "                     }\n",
        "\n",
        "    plt.figure(figsize=(7,7))\n",
        "    plt.suptitle(title)\n",
        "    for color, words in visualize_words.items():\n",
        "        points = np.array([wordvec_embedding[data.index_by_token[w]] for w in words])\n",
        "        for i, word in enumerate(words):\n",
        "            plt.text(points[i, 0], points[i, 1], word, color=color,horizontalalignment='center')\n",
        "        plt.scatter(points[:, 0], points[:, 1], c=color, alpha=0.3, s=0.5)\n",
        "\n",
        "visualize_vectors(untrained_input_vectors, untrained_output_vectors, \"Untrained word vectors\")\n",
        "visualize_vectors(trained_input_vectors, trained_output_vectors, \"Trained word vectors\")"
      ],
      "execution_count": null,
      "outputs": [
        {
          "output_type": "display_data",
          "data": {
            "image/png": "[encoded data removed]",
            "text/plain": [
              "<Figure size 504x504 with 1 Axes>"
            ]
          },
          "metadata": {
            "tags": [],
            "needs_background": "light"
          }
        },
        {
          "output_type": "display_data",
          "data": {
            "image/png": "[encoded data removed]",
            "text/plain": [
              "<Figure size 504x504 with 1 Axes>"
            ]
          },
          "metadata": {
            "tags": [],
            "needs_background": "light"
          }
        }
      ]
    }
  ]
}